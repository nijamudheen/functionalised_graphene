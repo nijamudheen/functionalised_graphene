{
 "cells": [
  {
   "cell_type": "code",
   "execution_count": 4,
   "metadata": {},
   "outputs": [],
   "source": [
    "# add bridge O atoms (epoxides) to 2D graphene\n",
    "\n",
    "import numpy as np\n",
    "\n",
    "from ase.io import write\n",
    "from ase.build import graphene_nanoribbon\n",
    "\n",
    "from add_epoxy import add_epoxy\n"
   ]
  },
  {
   "cell_type": "code",
   "execution_count": 5,
   "metadata": {},
   "outputs": [],
   "source": [
    "# generate graphene cell\n",
    "# size of the graphene supercell\n",
    "graphene_length = 7\n",
    "graphene_width = 7\n",
    "\n",
    "vacuum = 10 \n",
    "\n",
    "# generate 2D pristine graphene\n",
    "graphene = graphene_nanoribbon(\n",
    "    graphene_length, graphene_width, type=\"armchair\", \n",
    "    saturated=False, sheet=True, vacuum=vacuum\n",
    "    )\n",
    "\n",
    "C_atoms = [x.index for x in graphene if x.symbol=='C']\n",
    "functionalised_carbons = []"
   ]
  },
  {
   "cell_type": "code",
   "execution_count": 6,
   "metadata": {},
   "outputs": [],
   "source": [
    "for i in range(20):\n",
    "    graphene, functionalised_carbons = add_epoxy(\n",
    "        graphene, C_atoms, functionalised_carbons, \n",
    "        maximum_iterations=100\n",
    "    )\n",
    "\n",
    "\n",
    "# add ratlle options to add minor random atomic displacements \n",
    "# useful to generate distinct atomic environment for MLIP fitting\n",
    "graphene.rattle(0.01)\n",
    "\n",
    "write('epoxy_graphene.xyz', graphene)"
   ]
  },
  {
   "cell_type": "code",
   "execution_count": null,
   "metadata": {},
   "outputs": [],
   "source": []
  }
 ],
 "metadata": {
  "kernelspec": {
   "display_name": "my-rdkit-env",
   "language": "python",
   "name": "python3"
  },
  "language_info": {
   "codemirror_mode": {
    "name": "ipython",
    "version": 3
   },
   "file_extension": ".py",
   "mimetype": "text/x-python",
   "name": "python",
   "nbconvert_exporter": "python",
   "pygments_lexer": "ipython3",
   "version": "3.12.1"
  }
 },
 "nbformat": 4,
 "nbformat_minor": 2
}
