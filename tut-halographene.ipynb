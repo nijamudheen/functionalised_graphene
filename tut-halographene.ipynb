{
 "cells": [
  {
   "cell_type": "code",
   "execution_count": null,
   "metadata": {},
   "outputs": [],
   "source": [
    "import numpy as np\n",
    "\n",
    "from ase.io import write\n",
    "from ase.build import graphene_nanoribbon\n",
    "\n",
    "from add_halogens import add_halogen"
   ]
  },
  {
   "cell_type": "code",
   "execution_count": null,
   "metadata": {},
   "outputs": [],
   "source": [
    "graphene_length = 7\n",
    "graphene_width = 7\n",
    "vacuum = 10 \n",
    "\n",
    "\n",
    "graphene = graphene_nanoribbon(\n",
    "    graphene_length, graphene_width, type=\"armchair\", \n",
    "    saturated=False, sheet=True, vacuum=vacuum\n",
    "    )\n",
    "\n",
    "C_atoms = [x.index for x in graphene if x.symbol=='C']\n",
    "functionalised_carbons = []"
   ]
  },
  {
   "cell_type": "code",
   "execution_count": null,
   "metadata": {},
   "outputs": [],
   "source": [
    "\n",
    "all_halogens = ['F', 'Cl', 'Br', 'I']\n",
    "\n",
    "maximum_iterations = 20\n",
    "close_contact = False\n",
    "\n",
    "\n",
    "for x in range(10):\n",
    "    halogen = np.random.choice(all_halogens)\n",
    "    \n",
    "    graphene, functionalised_carbons = add_halogen(\n",
    "        graphene, C_atoms, functionalised_carbons,\n",
    "        halogen, maximum_iterations, close_contact\n",
    "    )\n",
    "    add_halogen(\n",
    "        graphene, C_atoms, functionalised_carbons, halogen,\n",
    "        maximum_iterations, close_contact\n",
    "        )\n",
    "    \n",
    "\n",
    "# add ratlle options to add minor random atomic displacements \n",
    "# useful to generate distinct atomic environment for MLIP fitting\n",
    "graphene.rattle(0.01)\n",
    "\n",
    "write('halo_graphene.xyz', graphene)\n"
   ]
  },
  {
   "cell_type": "code",
   "execution_count": null,
   "metadata": {},
   "outputs": [],
   "source": []
  }
 ],
 "metadata": {
  "kernelspec": {
   "display_name": "my-rdkit-env",
   "language": "python",
   "name": "python3"
  },
  "language_info": {
   "codemirror_mode": {
    "name": "ipython",
    "version": 3
   },
   "file_extension": ".py",
   "mimetype": "text/x-python",
   "name": "python",
   "nbconvert_exporter": "python",
   "pygments_lexer": "ipython3",
   "version": "3.12.1"
  }
 },
 "nbformat": 4,
 "nbformat_minor": 2
}
