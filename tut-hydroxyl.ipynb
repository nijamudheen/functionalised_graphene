{
 "cells": [
  {
   "cell_type": "code",
   "execution_count": null,
   "metadata": {},
   "outputs": [],
   "source": [
    "# add hydroxyl (OH) groups on graphene planar atoms\n",
    "\n",
    "from ase.io import write\n",
    "from ase.build import graphene_nanoribbon\n",
    "\n",
    "from add_hydroxyl import add_hydroxyl"
   ]
  },
  {
   "cell_type": "code",
   "execution_count": null,
   "metadata": {},
   "outputs": [],
   "source": [
    "graphene_length = 7\n",
    "graphene_width = 7\n",
    "vacuum = 10 \n",
    "\n",
    "\n",
    "graphene = graphene_nanoribbon(\n",
    "    graphene_length, graphene_width, type=\"armchair\", \n",
    "    saturated=False, sheet=True, vacuum=vacuum\n",
    "    )"
   ]
  },
  {
   "cell_type": "code",
   "execution_count": null,
   "metadata": {},
   "outputs": [],
   "source": [
    "functionalised_carbons = []\n",
    "C_atoms = [x.index for x in graphene if x.symbol=='C']"
   ]
  },
  {
   "cell_type": "code",
   "execution_count": null,
   "metadata": {},
   "outputs": [],
   "source": [
    "    \n",
    "for i in range(20):\n",
    "    graphene, functionalised_carbons = add_hydroxyl(\n",
    "        graphene, C_atoms, functionalised_carbons,\n",
    "        maximum_iterations=20\n",
    "    )"
   ]
  },
  {
   "cell_type": "code",
   "execution_count": null,
   "metadata": {},
   "outputs": [],
   "source": [
    "write(\"hydroxyl_graphene.xyz\", graphene)"
   ]
  },
  {
   "cell_type": "code",
   "execution_count": null,
   "metadata": {},
   "outputs": [],
   "source": []
  }
 ],
 "metadata": {
  "kernelspec": {
   "display_name": "my-rdkit-env",
   "language": "python",
   "name": "python3"
  },
  "language_info": {
   "codemirror_mode": {
    "name": "ipython",
    "version": 3
   },
   "file_extension": ".py",
   "mimetype": "text/x-python",
   "name": "python",
   "nbconvert_exporter": "python",
   "pygments_lexer": "ipython3",
   "version": "3.12.1"
  }
 },
 "nbformat": 4,
 "nbformat_minor": 2
}
