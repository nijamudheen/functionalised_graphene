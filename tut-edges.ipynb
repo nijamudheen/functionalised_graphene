{
 "cells": [
  {
   "cell_type": "code",
   "execution_count": null,
   "metadata": {},
   "outputs": [],
   "source": [
    "# add edge groups to 2D graphene\n",
    "\n",
    "from ase.io import write\n",
    "from ase.build import graphene_nanoribbon\n",
    "\n",
    "from add_edges import edge_functionalisation\n",
    "\n",
    "graphene_length = 10\n",
    "graphene_width = 10\n",
    "vacuum = 20 \n",
    "\n",
    "\n",
    "graphene = graphene_nanoribbon(\n",
    "    graphene_length, graphene_width, type=\"armchair\", \n",
    "    saturated=True, sheet=False, vacuum=vacuum\n",
    "    )\n",
    "\n",
    "\n",
    "edge_FG_atoms = []\n",
    "\n",
    "C_atoms = [x.index for x in graphene if x.symbol=='C']\n",
    "\n",
    "\n",
    "for i in range(20):\n",
    "    graphene, edge_FG_atoms = edge_functionalisation(graphene, edge_FG_atoms, maximum_iterations = 50)\n",
    "    \n",
    "\n",
    "write(\"edge_functionalised_graphene.xyz\", graphene)\n",
    "\n"
   ]
  },
  {
   "cell_type": "code",
   "execution_count": null,
   "metadata": {},
   "outputs": [],
   "source": []
  }
 ],
 "metadata": {
  "kernelspec": {
   "display_name": "my-rdkit-env",
   "language": "python",
   "name": "python3"
  },
  "language_info": {
   "codemirror_mode": {
    "name": "ipython",
    "version": 3
   },
   "file_extension": ".py",
   "mimetype": "text/x-python",
   "name": "python",
   "nbconvert_exporter": "python",
   "pygments_lexer": "ipython3",
   "version": "3.12.1"
  }
 },
 "nbformat": 4,
 "nbformat_minor": 2
}
